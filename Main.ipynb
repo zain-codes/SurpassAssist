{
  "cells": [
    {
      "cell_type": "markdown",
      "metadata": {
        "id": "tqKJ-rRZpu0X"
      },
      "source": [
        "# SurpassAssist\n",
        "\n",
        "---\n",
        "Welcome to the Surpass Assist Demo Notebook. This interactive guide will provide a detailed overview of the functionalities of the Surpass Assist system, a state-of-the-art computer vision model designed to enhance road safety and traffic flow. By analyzing road conditions, detecting lanes, and tracking vehicles in front of large trucks, Surpass Assist collects valuable data to determine safe opportunities for vehicles to overtake. Through this demo, we aim to showcase how this technology can drastically reduce accidents and traffic jams caused by unsafe overtaking of large vehicles. Get ready to experience how Surpass Assist is revolutionizing road safety, merging advanced AI technology with practical road usage. Let's get started!"
      ]
    },
    {
      "cell_type": "markdown",
      "metadata": {
        "id": "wHzY8ZrKxwg1"
      },
      "source": [
        "Please Note: That this notebook might contain slight bugs, that are easil fixable but time is short"
      ]
    },
    {
      "cell_type": "markdown",
      "metadata": {
        "id": "yCyoQMQzB--3"
      },
      "source": [
        "**NOTE: PLEASE MAKE SURE GPU ACCELERATION IS TURNED ON -- Runtime -> Change Runtime Type**\n",
        "\n",
        "**Make Sure it is set to GPU**"
      ]
    },
    {
      "cell_type": "code",
      "execution_count": null,
      "metadata": {
        "colab": {
          "base_uri": "https://localhost:8080/"
        },
        "id": "VmH_xD4k8WQM",
        "outputId": "019f45af-9dec-4ed1-8e25-bef682337429"
      },
      "outputs": [
        {
          "name": "stderr",
          "output_type": "stream",
          "text": [
            "Ultralytics YOLOv8.0.131 🚀 Python-3.10.12 torch-2.0.1+cu118 CUDA:0 (Tesla T4, 15102MiB)\n",
            "Setup complete ✅ (2 CPUs, 12.7 GB RAM, 24.2/78.2 GB disk)\n"
          ]
        }
      ],
      "source": [
        "# Installation & Imports\n",
        "!apt-get -qq install -y libsm6 libxext6 libxrender-dev\n",
        "!pip install -q torch torchvision\n",
        "!pip install -q opencv-python-headless\n",
        "\n",
        "\n",
        "%pip install ultralytics numpy tqdm requests supervision opencv-python\n",
        "import ultralytics\n",
        "import numpy as np\n",
        "import cv2\n",
        "import torch\n",
        "import requests\n",
        "import supervision as sv\n",
        "from google.colab import drive\n",
        "from pathlib import Path\n",
        "from tqdm.notebook import tqdm\n",
        "from google.colab import drive\n",
        "\n",
        "\n",
        "ultralytics.checks()"
      ]
    },
    {
      "cell_type": "code",
      "execution_count": null,
      "metadata": {
        "id": "5sn8L_vMfjUN"
      },
      "outputs": [],
      "source": [
        "# Defining file paths\n",
        "HOME = Path(\"/content/\")\n",
        "video_path = Path(HOME / \"ScenicDrive1.mp4\")\n",
        "output_video_path = Path(HOME / \"demo.mp4\")\n",
        "\n",
        "model_path = Path(\"yolov8x\") # leave this as is no need for an absolute path, it will download it automatically"
      ]
    },
    {
      "cell_type": "markdown",
      "metadata": {
        "id": "oik3gsLKgfvz"
      },
      "source": [
        "#Download ScenicDrive1.mp4, instead of manually uploading it every time\n",
        "Note: It might take a little file to appear in contents, it is there but will not show in the GUI"
      ]
    },
    {
      "cell_type": "code",
      "execution_count": null,
      "metadata": {
        "colab": {
          "base_uri": "https://localhost:8080/",
          "height": 49,
          "referenced_widgets": [
            "d5b8b5da5a074eef916412db87e3283f",
            "2692c2e36f784411beb6f79b114f0644",
            "829d20e79b8844c6ba2991e5ad5d8ebc",
            "15f673d99b5c45408e08af4c2d3af4c0",
            "8adc83a08f354abea5b404372db3d335",
            "8081858138824c5f986c4a189967d049",
            "fb0a2c7c1a1b4064b32423f7fdf7882e",
            "1873daec6e94486fa2ad1d788075c8fd",
            "5628758ade024790962dbcc3f1a7c529",
            "5edc9bc487e64360b3afe3fdb3f7bc30",
            "17e521077cb44a3e9739cad94be4161d"
          ]
        },
        "id": "tzlJbepGZPyI",
        "outputId": "35c11c44-64bb-4b3e-cf5e-0d00fe1da69d"
      },
      "outputs": [
        {
          "data": {
            "application/vnd.jupyter.widget-view+json": {
              "model_id": "d5b8b5da5a074eef916412db87e3283f",
              "version_major": 2,
              "version_minor": 0
            },
            "text/plain": [
              "  0%|          | 0.00/38.9M [00:00<?, ?iB/s]"
            ]
          },
          "metadata": {},
          "output_type": "display_data"
        }
      ],
      "source": [
        "video_url = \"https://github.com/zain-codes/Object-Detection-Yolo-Project1/raw/master/Videos/ScenicDrive1.mp4\"\n",
        "response = requests.get(video_url, stream=True)\n",
        "total_size_in_bytes= int(response.headers.get('content-length', 0))\n",
        "block_size = 1024 #1 Kibibyte\n",
        "progress_bar = tqdm(total=total_size_in_bytes, unit='iB', unit_scale=True)\n",
        "with open(str(video_path), 'wb') as file:\n",
        "    for data in response.iter_content(block_size):\n",
        "        progress_bar.update(len(data))\n",
        "        file.write(data)\n",
        "progress_bar.close()\n",
        "if total_size_in_bytes != 0 and progress_bar.n != total_size_in_bytes:\n",
        "  print(\"ERROR, something went wrong\")"
      ]
    },
    {
      "cell_type": "markdown",
      "metadata": {
        "id": "0Fur5I66qze6"
      },
      "source": [
        "#Defining the wanted classes to be tracked"
      ]
    },
    {
      "cell_type": "code",
      "execution_count": null,
      "metadata": {
        "id": "xoly9O7E-Vak"
      },
      "outputs": [],
      "source": [
        "# The class IDs for the desired objects to detect\n",
        "# (0) Person\n",
        "# (1-8) Vehicales\n",
        "# (14-23) Animals\n",
        "classes = {\n",
        "            0: 'person',\n",
        "            1: 'bicycle',\n",
        "            2: 'car',\n",
        "            3: 'motorcycle',\n",
        "            4: 'airplane',\n",
        "            5: 'bus',\n",
        "            6: 'train',\n",
        "            7: 'truck',\n",
        "            15: 'cat',\n",
        "            16: 'dog',\n",
        "            17: 'horse',\n",
        "            18: 'sheep',\n",
        "            19: 'cow',\n",
        "}\n",
        "# Get the list of class IDs needed (the keys of the defined dict)\n",
        "class_indexes = list(classes.keys())"
      ]
    },
    {
      "cell_type": "code",
      "execution_count": null,
      "metadata": {
        "id": "mCGJWTWhxecf"
      },
      "outputs": [],
      "source": [
        "# Customize the bounding box\n",
        "box_annotator = sv.BoxAnnotator(thickness=2,text_thickness=2,text_scale=1)\n",
        "\n",
        "# Let's assume the focal length of your camera (in pixels) and the actual width of the object of interest (in meters) is known\n",
        "FOCAL_LENGTH = 700  # Replace with your value, This value depends on your specific camera and would need to be calibrated\n",
        "ACTUAL_WIDTH = 1.95  # Average width of a car (in meters)\n",
        "\n",
        "# Initiate render progress bar\n",
        "\n"
      ]
    },
    {
      "cell_type": "markdown",
      "metadata": {
        "id": "UOYJMv2ZvtCR"
      },
      "source": [
        "**WITH DISTANCE ESTEMATION**"
      ]
    },
    {
      "cell_type": "code",
      "execution_count": null,
      "metadata": {
        "id": "PmiK3J0HwLfQ"
      },
      "outputs": [],
      "source": [
        "def calculate_distance(pixel_width):\n",
        "    # Calculate distance from the camera to the object\n",
        "    distance = (ACTUAL_WIDTH * FOCAL_LENGTH) / pixel_width\n",
        "    return distance"
      ]
    },
    {
      "cell_type": "code",
      "execution_count": null,
      "metadata": {
        "id": "sOMVm14Nx7Gn"
      },
      "outputs": [],
      "source": [
        "def get_bounding_box_info(det):\n",
        "    xyxy, mask, confidence, class_id, tracker_id = det\n",
        "    pixel_width = xyxy[2] - xyxy[0]\n",
        "    box_area = pixel_width * (xyxy[3] - xyxy[1])\n",
        "    return xyxy, pixel_width, box_area, class_id, tracker_id"
      ]
    },
    {
      "cell_type": "code",
      "execution_count": null,
      "metadata": {
        "id": "uPC37N4Qz6NR"
      },
      "outputs": [],
      "source": [
        "def calculate_and_store_area(past_areas, tracker_id, box_area, N):\n",
        "    past_areas.setdefault(tracker_id, []).append(box_area)\n",
        "    past_areas[tracker_id] = past_areas[tracker_id][-N:]  # keep last N areas\n",
        "    return past_areas"
      ]
    },
    {
      "cell_type": "code",
      "execution_count": null,
      "metadata": {
        "id": "b4VmMaJ_0A3m"
      },
      "outputs": [],
      "source": [
        "def determine_direction(past_areas, tracker_id, N, box_area):\n",
        "    if len(past_areas[tracker_id]) == N:\n",
        "        avg_past_area = sum(past_areas[tracker_id]) / N\n",
        "        direction = 'moving away' if box_area > avg_past_area else 'Incoming'\n",
        "    else:\n",
        "        direction = 'Direction unknown'\n",
        "    return direction"
      ]
    },
    {
      "cell_type": "code",
      "execution_count": null,
      "metadata": {
        "id": "pt-uitHB0H3c"
      },
      "outputs": [],
      "source": [
        "def update_last_frame_boxes(last_frame_boxes, tracker_id, xyxy):\n",
        "    last_frame_boxes[tracker_id] = xyxy\n",
        "    return last_frame_boxes"
      ]
    },
    {
      "cell_type": "code",
      "execution_count": null,
      "metadata": {
        "id": "pQ81qD190Myc"
      },
      "outputs": [],
      "source": [
        "def create_label(classes, class_id, direction, distance,surpassable):\n",
        "  if surpassable:\n",
        "    surpassable = \"Safe\"\n",
        "  else:\n",
        "    surpassable = \"Unsafe\"\n",
        "    return f\"{direction}, Distance: {distance:.2f}m - ({surpassable})\""
      ]
    },
    {
      "cell_type": "code",
      "execution_count": null,
      "metadata": {
        "id": "IK8wjo8r6n6e"
      },
      "outputs": [],
      "source": [
        "def is_surpassable(distance,direction):\n",
        "  if (distance < 70 and direction == 'moving away' ):\n",
        "    return False\n",
        "\n",
        "  return True"
      ]
    },
    {
      "cell_type": "markdown",
      "metadata": {
        "id": "NaMu-kiVoyIE"
      },
      "source": [
        "Note:\n",
        "Due to the Limitatations of Google Colab\n",
        "You cannot run live previews of demos\n",
        "So we have dedcided to have the demo fully render inside of Colab\n",
        "and then you can download and view the baisc demo on your own machine.\n",
        "The Render process might take a little while, it is still beter than running a computer vision model locally with slow hardware:"
      ]
    },
    {
      "cell_type": "code",
      "execution_count": null,
      "metadata": {
        "id": "OJhLOrKnwe7t"
      },
      "outputs": [],
      "source": [
        "def process_video(video_path, model_path,output_video_path, class_indexes, classes, box_annotator):\n",
        "    #Video Renderer defnition\n",
        "    video_capture = cv2.VideoCapture(str(video_path))\n",
        "    total_frames = int(video_capture.get(cv2.CAP_PROP_FRAME_COUNT))\n",
        "    frame_width = int(video_capture.get(cv2.CAP_PROP_FRAME_WIDTH))\n",
        "    frame_height = int(video_capture.get(cv2.CAP_PROP_FRAME_HEIGHT))\n",
        "    fps = video_capture.get(cv2.CAP_PROP_FPS)\n",
        "    fourcc = cv2.VideoWriter_fourcc(*'mp4v')\n",
        "    output_video = cv2.VideoWriter(str(output_video_path), fourcc, fps, (frame_width, frame_height))\n",
        "\n",
        "    model = ultralytics.YOLO(str(model_path))\n",
        "    pbar = tqdm(total=total_frames-2, desc='Rendering video')\n",
        "\n",
        "    past_areas = {}  # Format: {tracker_id: [list of past areas]}\n",
        "    last_frame_boxes = {}\n",
        "    box_areas = {}\n",
        "    # Create a dictionary to store the directions for each object\n",
        "    directions = {}\n",
        "    N = 10\n",
        "\n",
        "\n",
        "    while video_capture.isOpened():\n",
        "        ret, frame = video_capture.read()\n",
        "        if not ret:\n",
        "            break\n",
        "        result = model.predict(frame, classes=class_indexes, verbose=False, agnostic_nms=True)[0]\n",
        "        detections = sv.Detections.from_yolov8(result)\n",
        "        detections = detections[np.isin(detections.class_id, class_indexes)]\n",
        "        new_labels = []\n",
        "\n",
        "        for det in detections:\n",
        "            xyxy, pixel_width, box_area, class_id, tracker_id = get_bounding_box_info(det)\n",
        "            distance = calculate_distance(pixel_width)\n",
        "            past_areas = calculate_and_store_area(past_areas, tracker_id, box_area, N)\n",
        "            direction = determine_direction(past_areas, tracker_id, N, box_area)\n",
        "            last_frame_boxes = update_last_frame_boxes(last_frame_boxes, tracker_id, xyxy)\n",
        "            surpassable = is_surpassable(distance,direction)\n",
        "            new_labels.append(create_label(classes, class_id, direction, distance,surpassable))\n",
        "\n",
        "        frame = box_annotator.annotate(scene=frame, detections=detections, labels=new_labels)\n",
        "        output_video.write(frame)\n",
        "        pbar.update(1)\n",
        "\n",
        "    pbar.close()\n",
        "    video_capture.release()\n",
        "    output_video.release()\n",
        "    cv2.destroyAllWindows()"
      ]
    },
    {
      "cell_type": "code",
      "execution_count": null,
      "metadata": {
        "colab": {
          "base_uri": "https://localhost:8080/",
          "height": 49,
          "referenced_widgets": [
            "e5782553403c455a930b3f930d8f7da1",
            "ec9f4b63f8ad4f9089250dabeb8b474e",
            "995e618e121043dc9a72ad78db22c243",
            "7815bf9b224641c48f2413a935aea780",
            "1c3f5b1bb10c4f1da64c363ff0eb7a6e",
            "1e8ff1e6d0634141906e2ab0ac9a1d51",
            "da8e4a14f4304be598bf0ab696487da6",
            "3587ac46c8cd40519cc02b463ba66789",
            "0fa1f1f7ec7f42a09c3868d3edc63f34",
            "0b9c268f9d6841c1aa6e8d477858fca1",
            "9fd6b751fb9941fbb2b52341f11442ac"
          ]
        },
        "id": "fLsOBYJygptY",
        "outputId": "397d0210-9dbc-46b9-aa2e-532c505c6e77"
      },
      "outputs": [
        {
          "data": {
            "application/vnd.jupyter.widget-view+json": {
              "model_id": "e5782553403c455a930b3f930d8f7da1",
              "version_major": 2,
              "version_minor": 0
            },
            "text/plain": [
              "Rendering video:   0%|          | 0/2087 [00:00<?, ?it/s]"
            ]
          },
          "metadata": {},
          "output_type": "display_data"
        }
      ],
      "source": [
        "process_video(video_path, model_path,output_video_path, class_indexes, classes, box_annotator)"
      ]
    }
  ],
  "metadata": {
    "accelerator": "GPU",
    "colab": {
      "gpuType": "T4",
      "provenance": []
    },
    "kernelspec": {
      "display_name": "Python 3",
      "name": "python3"
    },
    "language_info": {
      "name": "python"
    },
    "widgets": {
      "application/vnd.jupyter.widget-state+json": {
        "0b9c268f9d6841c1aa6e8d477858fca1": {
          "model_module": "@jupyter-widgets/base",
          "model_module_version": "1.2.0",
          "model_name": "LayoutModel",
          "state": {
            "_model_module": "@jupyter-widgets/base",
            "_model_module_version": "1.2.0",
            "_model_name": "LayoutModel",
            "_view_count": null,
            "_view_module": "@jupyter-widgets/base",
            "_view_module_version": "1.2.0",
            "_view_name": "LayoutView",
            "align_content": null,
            "align_items": null,
            "align_self": null,
            "border": null,
            "bottom": null,
            "display": null,
            "flex": null,
            "flex_flow": null,
            "grid_area": null,
            "grid_auto_columns": null,
            "grid_auto_flow": null,
            "grid_auto_rows": null,
            "grid_column": null,
            "grid_gap": null,
            "grid_row": null,
            "grid_template_areas": null,
            "grid_template_columns": null,
            "grid_template_rows": null,
            "height": null,
            "justify_content": null,
            "justify_items": null,
            "left": null,
            "margin": null,
            "max_height": null,
            "max_width": null,
            "min_height": null,
            "min_width": null,
            "object_fit": null,
            "object_position": null,
            "order": null,
            "overflow": null,
            "overflow_x": null,
            "overflow_y": null,
            "padding": null,
            "right": null,
            "top": null,
            "visibility": null,
            "width": null
          }
        },
        "0fa1f1f7ec7f42a09c3868d3edc63f34": {
          "model_module": "@jupyter-widgets/controls",
          "model_module_version": "1.5.0",
          "model_name": "ProgressStyleModel",
          "state": {
            "_model_module": "@jupyter-widgets/controls",
            "_model_module_version": "1.5.0",
            "_model_name": "ProgressStyleModel",
            "_view_count": null,
            "_view_module": "@jupyter-widgets/base",
            "_view_module_version": "1.2.0",
            "_view_name": "StyleView",
            "bar_color": null,
            "description_width": ""
          }
        },
        "15f673d99b5c45408e08af4c2d3af4c0": {
          "model_module": "@jupyter-widgets/controls",
          "model_module_version": "1.5.0",
          "model_name": "HTMLModel",
          "state": {
            "_dom_classes": [],
            "_model_module": "@jupyter-widgets/controls",
            "_model_module_version": "1.5.0",
            "_model_name": "HTMLModel",
            "_view_count": null,
            "_view_module": "@jupyter-widgets/controls",
            "_view_module_version": "1.5.0",
            "_view_name": "HTMLView",
            "description": "",
            "description_tooltip": null,
            "layout": "IPY_MODEL_5edc9bc487e64360b3afe3fdb3f7bc30",
            "placeholder": "​",
            "style": "IPY_MODEL_17e521077cb44a3e9739cad94be4161d",
            "value": " 38.9M/38.9M [00:00&lt;00:00, 101MiB/s]"
          }
        },
        "17e521077cb44a3e9739cad94be4161d": {
          "model_module": "@jupyter-widgets/controls",
          "model_module_version": "1.5.0",
          "model_name": "DescriptionStyleModel",
          "state": {
            "_model_module": "@jupyter-widgets/controls",
            "_model_module_version": "1.5.0",
            "_model_name": "DescriptionStyleModel",
            "_view_count": null,
            "_view_module": "@jupyter-widgets/base",
            "_view_module_version": "1.2.0",
            "_view_name": "StyleView",
            "description_width": ""
          }
        },
        "1873daec6e94486fa2ad1d788075c8fd": {
          "model_module": "@jupyter-widgets/base",
          "model_module_version": "1.2.0",
          "model_name": "LayoutModel",
          "state": {
            "_model_module": "@jupyter-widgets/base",
            "_model_module_version": "1.2.0",
            "_model_name": "LayoutModel",
            "_view_count": null,
            "_view_module": "@jupyter-widgets/base",
            "_view_module_version": "1.2.0",
            "_view_name": "LayoutView",
            "align_content": null,
            "align_items": null,
            "align_self": null,
            "border": null,
            "bottom": null,
            "display": null,
            "flex": null,
            "flex_flow": null,
            "grid_area": null,
            "grid_auto_columns": null,
            "grid_auto_flow": null,
            "grid_auto_rows": null,
            "grid_column": null,
            "grid_gap": null,
            "grid_row": null,
            "grid_template_areas": null,
            "grid_template_columns": null,
            "grid_template_rows": null,
            "height": null,
            "justify_content": null,
            "justify_items": null,
            "left": null,
            "margin": null,
            "max_height": null,
            "max_width": null,
            "min_height": null,
            "min_width": null,
            "object_fit": null,
            "object_position": null,
            "order": null,
            "overflow": null,
            "overflow_x": null,
            "overflow_y": null,
            "padding": null,
            "right": null,
            "top": null,
            "visibility": null,
            "width": null
          }
        },
        "1c3f5b1bb10c4f1da64c363ff0eb7a6e": {
          "model_module": "@jupyter-widgets/base",
          "model_module_version": "1.2.0",
          "model_name": "LayoutModel",
          "state": {
            "_model_module": "@jupyter-widgets/base",
            "_model_module_version": "1.2.0",
            "_model_name": "LayoutModel",
            "_view_count": null,
            "_view_module": "@jupyter-widgets/base",
            "_view_module_version": "1.2.0",
            "_view_name": "LayoutView",
            "align_content": null,
            "align_items": null,
            "align_self": null,
            "border": null,
            "bottom": null,
            "display": null,
            "flex": null,
            "flex_flow": null,
            "grid_area": null,
            "grid_auto_columns": null,
            "grid_auto_flow": null,
            "grid_auto_rows": null,
            "grid_column": null,
            "grid_gap": null,
            "grid_row": null,
            "grid_template_areas": null,
            "grid_template_columns": null,
            "grid_template_rows": null,
            "height": null,
            "justify_content": null,
            "justify_items": null,
            "left": null,
            "margin": null,
            "max_height": null,
            "max_width": null,
            "min_height": null,
            "min_width": null,
            "object_fit": null,
            "object_position": null,
            "order": null,
            "overflow": null,
            "overflow_x": null,
            "overflow_y": null,
            "padding": null,
            "right": null,
            "top": null,
            "visibility": null,
            "width": null
          }
        },
        "1e8ff1e6d0634141906e2ab0ac9a1d51": {
          "model_module": "@jupyter-widgets/base",
          "model_module_version": "1.2.0",
          "model_name": "LayoutModel",
          "state": {
            "_model_module": "@jupyter-widgets/base",
            "_model_module_version": "1.2.0",
            "_model_name": "LayoutModel",
            "_view_count": null,
            "_view_module": "@jupyter-widgets/base",
            "_view_module_version": "1.2.0",
            "_view_name": "LayoutView",
            "align_content": null,
            "align_items": null,
            "align_self": null,
            "border": null,
            "bottom": null,
            "display": null,
            "flex": null,
            "flex_flow": null,
            "grid_area": null,
            "grid_auto_columns": null,
            "grid_auto_flow": null,
            "grid_auto_rows": null,
            "grid_column": null,
            "grid_gap": null,
            "grid_row": null,
            "grid_template_areas": null,
            "grid_template_columns": null,
            "grid_template_rows": null,
            "height": null,
            "justify_content": null,
            "justify_items": null,
            "left": null,
            "margin": null,
            "max_height": null,
            "max_width": null,
            "min_height": null,
            "min_width": null,
            "object_fit": null,
            "object_position": null,
            "order": null,
            "overflow": null,
            "overflow_x": null,
            "overflow_y": null,
            "padding": null,
            "right": null,
            "top": null,
            "visibility": null,
            "width": null
          }
        },
        "2692c2e36f784411beb6f79b114f0644": {
          "model_module": "@jupyter-widgets/controls",
          "model_module_version": "1.5.0",
          "model_name": "HTMLModel",
          "state": {
            "_dom_classes": [],
            "_model_module": "@jupyter-widgets/controls",
            "_model_module_version": "1.5.0",
            "_model_name": "HTMLModel",
            "_view_count": null,
            "_view_module": "@jupyter-widgets/controls",
            "_view_module_version": "1.5.0",
            "_view_name": "HTMLView",
            "description": "",
            "description_tooltip": null,
            "layout": "IPY_MODEL_8081858138824c5f986c4a189967d049",
            "placeholder": "​",
            "style": "IPY_MODEL_fb0a2c7c1a1b4064b32423f7fdf7882e",
            "value": "100%"
          }
        },
        "3587ac46c8cd40519cc02b463ba66789": {
          "model_module": "@jupyter-widgets/base",
          "model_module_version": "1.2.0",
          "model_name": "LayoutModel",
          "state": {
            "_model_module": "@jupyter-widgets/base",
            "_model_module_version": "1.2.0",
            "_model_name": "LayoutModel",
            "_view_count": null,
            "_view_module": "@jupyter-widgets/base",
            "_view_module_version": "1.2.0",
            "_view_name": "LayoutView",
            "align_content": null,
            "align_items": null,
            "align_self": null,
            "border": null,
            "bottom": null,
            "display": null,
            "flex": null,
            "flex_flow": null,
            "grid_area": null,
            "grid_auto_columns": null,
            "grid_auto_flow": null,
            "grid_auto_rows": null,
            "grid_column": null,
            "grid_gap": null,
            "grid_row": null,
            "grid_template_areas": null,
            "grid_template_columns": null,
            "grid_template_rows": null,
            "height": null,
            "justify_content": null,
            "justify_items": null,
            "left": null,
            "margin": null,
            "max_height": null,
            "max_width": null,
            "min_height": null,
            "min_width": null,
            "object_fit": null,
            "object_position": null,
            "order": null,
            "overflow": null,
            "overflow_x": null,
            "overflow_y": null,
            "padding": null,
            "right": null,
            "top": null,
            "visibility": null,
            "width": null
          }
        },
        "5628758ade024790962dbcc3f1a7c529": {
          "model_module": "@jupyter-widgets/controls",
          "model_module_version": "1.5.0",
          "model_name": "ProgressStyleModel",
          "state": {
            "_model_module": "@jupyter-widgets/controls",
            "_model_module_version": "1.5.0",
            "_model_name": "ProgressStyleModel",
            "_view_count": null,
            "_view_module": "@jupyter-widgets/base",
            "_view_module_version": "1.2.0",
            "_view_name": "StyleView",
            "bar_color": null,
            "description_width": ""
          }
        },
        "5edc9bc487e64360b3afe3fdb3f7bc30": {
          "model_module": "@jupyter-widgets/base",
          "model_module_version": "1.2.0",
          "model_name": "LayoutModel",
          "state": {
            "_model_module": "@jupyter-widgets/base",
            "_model_module_version": "1.2.0",
            "_model_name": "LayoutModel",
            "_view_count": null,
            "_view_module": "@jupyter-widgets/base",
            "_view_module_version": "1.2.0",
            "_view_name": "LayoutView",
            "align_content": null,
            "align_items": null,
            "align_self": null,
            "border": null,
            "bottom": null,
            "display": null,
            "flex": null,
            "flex_flow": null,
            "grid_area": null,
            "grid_auto_columns": null,
            "grid_auto_flow": null,
            "grid_auto_rows": null,
            "grid_column": null,
            "grid_gap": null,
            "grid_row": null,
            "grid_template_areas": null,
            "grid_template_columns": null,
            "grid_template_rows": null,
            "height": null,
            "justify_content": null,
            "justify_items": null,
            "left": null,
            "margin": null,
            "max_height": null,
            "max_width": null,
            "min_height": null,
            "min_width": null,
            "object_fit": null,
            "object_position": null,
            "order": null,
            "overflow": null,
            "overflow_x": null,
            "overflow_y": null,
            "padding": null,
            "right": null,
            "top": null,
            "visibility": null,
            "width": null
          }
        },
        "7815bf9b224641c48f2413a935aea780": {
          "model_module": "@jupyter-widgets/controls",
          "model_module_version": "1.5.0",
          "model_name": "HTMLModel",
          "state": {
            "_dom_classes": [],
            "_model_module": "@jupyter-widgets/controls",
            "_model_module_version": "1.5.0",
            "_model_name": "HTMLModel",
            "_view_count": null,
            "_view_module": "@jupyter-widgets/controls",
            "_view_module_version": "1.5.0",
            "_view_name": "HTMLView",
            "description": "",
            "description_tooltip": null,
            "layout": "IPY_MODEL_0b9c268f9d6841c1aa6e8d477858fca1",
            "placeholder": "​",
            "style": "IPY_MODEL_9fd6b751fb9941fbb2b52341f11442ac",
            "value": " 2087/2087 [02:16&lt;00:00, 16.85it/s]"
          }
        },
        "8081858138824c5f986c4a189967d049": {
          "model_module": "@jupyter-widgets/base",
          "model_module_version": "1.2.0",
          "model_name": "LayoutModel",
          "state": {
            "_model_module": "@jupyter-widgets/base",
            "_model_module_version": "1.2.0",
            "_model_name": "LayoutModel",
            "_view_count": null,
            "_view_module": "@jupyter-widgets/base",
            "_view_module_version": "1.2.0",
            "_view_name": "LayoutView",
            "align_content": null,
            "align_items": null,
            "align_self": null,
            "border": null,
            "bottom": null,
            "display": null,
            "flex": null,
            "flex_flow": null,
            "grid_area": null,
            "grid_auto_columns": null,
            "grid_auto_flow": null,
            "grid_auto_rows": null,
            "grid_column": null,
            "grid_gap": null,
            "grid_row": null,
            "grid_template_areas": null,
            "grid_template_columns": null,
            "grid_template_rows": null,
            "height": null,
            "justify_content": null,
            "justify_items": null,
            "left": null,
            "margin": null,
            "max_height": null,
            "max_width": null,
            "min_height": null,
            "min_width": null,
            "object_fit": null,
            "object_position": null,
            "order": null,
            "overflow": null,
            "overflow_x": null,
            "overflow_y": null,
            "padding": null,
            "right": null,
            "top": null,
            "visibility": null,
            "width": null
          }
        },
        "829d20e79b8844c6ba2991e5ad5d8ebc": {
          "model_module": "@jupyter-widgets/controls",
          "model_module_version": "1.5.0",
          "model_name": "FloatProgressModel",
          "state": {
            "_dom_classes": [],
            "_model_module": "@jupyter-widgets/controls",
            "_model_module_version": "1.5.0",
            "_model_name": "FloatProgressModel",
            "_view_count": null,
            "_view_module": "@jupyter-widgets/controls",
            "_view_module_version": "1.5.0",
            "_view_name": "ProgressView",
            "bar_style": "success",
            "description": "",
            "description_tooltip": null,
            "layout": "IPY_MODEL_1873daec6e94486fa2ad1d788075c8fd",
            "max": 38906700,
            "min": 0,
            "orientation": "horizontal",
            "style": "IPY_MODEL_5628758ade024790962dbcc3f1a7c529",
            "value": 38906700
          }
        },
        "8adc83a08f354abea5b404372db3d335": {
          "model_module": "@jupyter-widgets/base",
          "model_module_version": "1.2.0",
          "model_name": "LayoutModel",
          "state": {
            "_model_module": "@jupyter-widgets/base",
            "_model_module_version": "1.2.0",
            "_model_name": "LayoutModel",
            "_view_count": null,
            "_view_module": "@jupyter-widgets/base",
            "_view_module_version": "1.2.0",
            "_view_name": "LayoutView",
            "align_content": null,
            "align_items": null,
            "align_self": null,
            "border": null,
            "bottom": null,
            "display": null,
            "flex": null,
            "flex_flow": null,
            "grid_area": null,
            "grid_auto_columns": null,
            "grid_auto_flow": null,
            "grid_auto_rows": null,
            "grid_column": null,
            "grid_gap": null,
            "grid_row": null,
            "grid_template_areas": null,
            "grid_template_columns": null,
            "grid_template_rows": null,
            "height": null,
            "justify_content": null,
            "justify_items": null,
            "left": null,
            "margin": null,
            "max_height": null,
            "max_width": null,
            "min_height": null,
            "min_width": null,
            "object_fit": null,
            "object_position": null,
            "order": null,
            "overflow": null,
            "overflow_x": null,
            "overflow_y": null,
            "padding": null,
            "right": null,
            "top": null,
            "visibility": null,
            "width": null
          }
        },
        "995e618e121043dc9a72ad78db22c243": {
          "model_module": "@jupyter-widgets/controls",
          "model_module_version": "1.5.0",
          "model_name": "FloatProgressModel",
          "state": {
            "_dom_classes": [],
            "_model_module": "@jupyter-widgets/controls",
            "_model_module_version": "1.5.0",
            "_model_name": "FloatProgressModel",
            "_view_count": null,
            "_view_module": "@jupyter-widgets/controls",
            "_view_module_version": "1.5.0",
            "_view_name": "ProgressView",
            "bar_style": "success",
            "description": "",
            "description_tooltip": null,
            "layout": "IPY_MODEL_3587ac46c8cd40519cc02b463ba66789",
            "max": 2087,
            "min": 0,
            "orientation": "horizontal",
            "style": "IPY_MODEL_0fa1f1f7ec7f42a09c3868d3edc63f34",
            "value": 2087
          }
        },
        "9fd6b751fb9941fbb2b52341f11442ac": {
          "model_module": "@jupyter-widgets/controls",
          "model_module_version": "1.5.0",
          "model_name": "DescriptionStyleModel",
          "state": {
            "_model_module": "@jupyter-widgets/controls",
            "_model_module_version": "1.5.0",
            "_model_name": "DescriptionStyleModel",
            "_view_count": null,
            "_view_module": "@jupyter-widgets/base",
            "_view_module_version": "1.2.0",
            "_view_name": "StyleView",
            "description_width": ""
          }
        },
        "d5b8b5da5a074eef916412db87e3283f": {
          "model_module": "@jupyter-widgets/controls",
          "model_module_version": "1.5.0",
          "model_name": "HBoxModel",
          "state": {
            "_dom_classes": [],
            "_model_module": "@jupyter-widgets/controls",
            "_model_module_version": "1.5.0",
            "_model_name": "HBoxModel",
            "_view_count": null,
            "_view_module": "@jupyter-widgets/controls",
            "_view_module_version": "1.5.0",
            "_view_name": "HBoxView",
            "box_style": "",
            "children": [
              "IPY_MODEL_2692c2e36f784411beb6f79b114f0644",
              "IPY_MODEL_829d20e79b8844c6ba2991e5ad5d8ebc",
              "IPY_MODEL_15f673d99b5c45408e08af4c2d3af4c0"
            ],
            "layout": "IPY_MODEL_8adc83a08f354abea5b404372db3d335"
          }
        },
        "da8e4a14f4304be598bf0ab696487da6": {
          "model_module": "@jupyter-widgets/controls",
          "model_module_version": "1.5.0",
          "model_name": "DescriptionStyleModel",
          "state": {
            "_model_module": "@jupyter-widgets/controls",
            "_model_module_version": "1.5.0",
            "_model_name": "DescriptionStyleModel",
            "_view_count": null,
            "_view_module": "@jupyter-widgets/base",
            "_view_module_version": "1.2.0",
            "_view_name": "StyleView",
            "description_width": ""
          }
        },
        "e5782553403c455a930b3f930d8f7da1": {
          "model_module": "@jupyter-widgets/controls",
          "model_module_version": "1.5.0",
          "model_name": "HBoxModel",
          "state": {
            "_dom_classes": [],
            "_model_module": "@jupyter-widgets/controls",
            "_model_module_version": "1.5.0",
            "_model_name": "HBoxModel",
            "_view_count": null,
            "_view_module": "@jupyter-widgets/controls",
            "_view_module_version": "1.5.0",
            "_view_name": "HBoxView",
            "box_style": "",
            "children": [
              "IPY_MODEL_ec9f4b63f8ad4f9089250dabeb8b474e",
              "IPY_MODEL_995e618e121043dc9a72ad78db22c243",
              "IPY_MODEL_7815bf9b224641c48f2413a935aea780"
            ],
            "layout": "IPY_MODEL_1c3f5b1bb10c4f1da64c363ff0eb7a6e"
          }
        },
        "ec9f4b63f8ad4f9089250dabeb8b474e": {
          "model_module": "@jupyter-widgets/controls",
          "model_module_version": "1.5.0",
          "model_name": "HTMLModel",
          "state": {
            "_dom_classes": [],
            "_model_module": "@jupyter-widgets/controls",
            "_model_module_version": "1.5.0",
            "_model_name": "HTMLModel",
            "_view_count": null,
            "_view_module": "@jupyter-widgets/controls",
            "_view_module_version": "1.5.0",
            "_view_name": "HTMLView",
            "description": "",
            "description_tooltip": null,
            "layout": "IPY_MODEL_1e8ff1e6d0634141906e2ab0ac9a1d51",
            "placeholder": "​",
            "style": "IPY_MODEL_da8e4a14f4304be598bf0ab696487da6",
            "value": "Rendering video: 100%"
          }
        },
        "fb0a2c7c1a1b4064b32423f7fdf7882e": {
          "model_module": "@jupyter-widgets/controls",
          "model_module_version": "1.5.0",
          "model_name": "DescriptionStyleModel",
          "state": {
            "_model_module": "@jupyter-widgets/controls",
            "_model_module_version": "1.5.0",
            "_model_name": "DescriptionStyleModel",
            "_view_count": null,
            "_view_module": "@jupyter-widgets/base",
            "_view_module_version": "1.2.0",
            "_view_name": "StyleView",
            "description_width": ""
          }
        }
      }
    }
  },
  "nbformat": 4,
  "nbformat_minor": 0
}
